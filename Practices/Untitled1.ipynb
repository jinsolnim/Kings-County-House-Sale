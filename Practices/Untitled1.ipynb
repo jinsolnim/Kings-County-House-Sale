{
 "cells": [
  {
   "cell_type": "markdown",
   "metadata": {},
   "source": [
    "Critical factors taht influence value of Homes\n",
    "\n",
    "1. Neighborhood  Comps\n",
    "2. Location\n",
    "3. Home size and usable space\n",
    "4. Age and condition\n",
    "5. Upgrade and Updates\n",
    "6. Economic indicators"
   ]
  }
 ],
 "metadata": {
  "kernelspec": {
   "display_name": "learn-env",
   "language": "python",
   "name": "learn-env"
  },
  "language_info": {
   "codemirror_mode": {
    "name": "ipython",
    "version": 3
   },
   "file_extension": ".py",
   "mimetype": "text/x-python",
   "name": "python",
   "nbconvert_exporter": "python",
   "pygments_lexer": "ipython3",
   "version": "3.8.3"
  }
 },
 "nbformat": 4,
 "nbformat_minor": 4
}
